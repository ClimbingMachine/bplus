{
 "cells": [
  {
   "cell_type": "code",
   "execution_count": 1,
   "metadata": {},
   "outputs": [],
   "source": [
    "from ArgoData.data_centerline import Argo2Dataset\n",
    "from models.ganet import get_model\n",
    "from torch.utils.data import DataLoader\n",
    "from av2.datasets.motion_forecasting.eval.submission import ChallengeSubmission, ScenarioPredictions\n",
    "import torch.nn as nn\n",
    "import torch"
   ]
  },
  {
   "cell_type": "code",
   "execution_count": 2,
   "metadata": {},
   "outputs": [],
   "source": [
    "config, collate_fn, net, loss, post_process, opt = get_model()\n",
    "checkpoint = torch.load(\"./models/results/ganet1/36.000.ckpt\")\n",
    "net.load_state_dict(checkpoint['state_dict'], strict = False)   \n",
    "m = nn.Softmax(dim=0)\n",
    "\n",
    "test_data = Argo2Dataset(root = '../', split  = 'val')\n",
    "\n",
    "test_loader = DataLoader(\n",
    "    test_data,\n",
    "    batch_size = 1,\n",
    "    num_workers = config['val_workers'],\n",
    "    shuffle = False,\n",
    "    collate_fn = collate_fn,\n",
    "    pin_memory=True,\n",
    ")\n"
   ]
  },
  {
   "cell_type": "code",
   "execution_count": 3,
   "metadata": {},
   "outputs": [],
   "source": [
    "for i, test_data in enumerate(test_loader):\n",
    "    if i > 1:\n",
    "        break"
   ]
  },
  {
   "cell_type": "code",
   "execution_count": 4,
   "metadata": {},
   "outputs": [],
   "source": [
    "goal, out = net(test_data)\n",
    "gt_preds = test_data['gt_preds']\n",
    "has_preds = test_data['has_preds']\n",
    "\n",
    "cls, reg = out[\"cls\"], out[\"reg\"]\n",
    "cls = torch.cat([x for x in cls], 0)\n",
    "reg = torch.cat([x for x in reg], 0)\n",
    "gt_preds = torch.cat([x for x in gt_preds], 0)\n",
    "gt_preds = gt_preds.to(reg.device)\n",
    "has_preds = torch.cat([x for x in has_preds], 0)\n",
    "num_mods, num_preds = config[\"num_mods\"], config[\"num_preds\"]\n",
    "last = has_preds.float() + 0.1 * torch.arange(num_preds).float().to(has_preds.device)/float(num_preds)\n",
    "\n",
    "\n",
    "max_last, last_idcs = last.max(1) \n",
    "mask = max_last > 1.0\n",
    "\n",
    "# valid final cls scores\n",
    "cls = cls[mask]\n",
    "# valid final prediction positions\n",
    "reg = reg[mask]\n",
    "gt_preds = gt_preds[mask]\n",
    "has_preds = has_preds[mask]\n",
    "last_idcs = last_idcs[mask]"
   ]
  },
  {
   "cell_type": "code",
   "execution_count": 5,
   "metadata": {},
   "outputs": [],
   "source": [
    "row_idcs = torch.arange(len(last_idcs)).long().to(last_idcs.device)\n",
    "dist = []\n",
    "for j in range(num_mods):\n",
    "    dist.append(\n",
    "        torch.sqrt(\n",
    "            (\n",
    "                (reg[row_idcs, j, last_idcs] - gt_preds[row_idcs, last_idcs])\n",
    "                ** 2\n",
    "            ).sum(1)\n",
    "        )\n",
    "    )"
   ]
  },
  {
   "cell_type": "code",
   "execution_count": 23,
   "metadata": {},
   "outputs": [
    {
     "data": {
      "text/plain": [
       "torch.Size([18, 2])"
      ]
     },
     "execution_count": 23,
     "metadata": {},
     "output_type": "execute_result"
    }
   ],
   "source": [
    "reg[row_idcs, j, last_idcs].shape"
   ]
  },
  {
   "cell_type": "code",
   "execution_count": null,
   "metadata": {},
   "outputs": [],
   "source": []
  }
 ],
 "metadata": {
  "kernelspec": {
   "display_name": "lanegcn",
   "language": "python",
   "name": "python3"
  },
  "language_info": {
   "codemirror_mode": {
    "name": "ipython",
    "version": 3
   },
   "file_extension": ".py",
   "mimetype": "text/x-python",
   "name": "python",
   "nbconvert_exporter": "python",
   "pygments_lexer": "ipython3",
   "version": "3.10.10"
  },
  "orig_nbformat": 4
 },
 "nbformat": 4,
 "nbformat_minor": 2
}
